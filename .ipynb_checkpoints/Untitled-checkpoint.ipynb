{
 "cells": [
  {
   "cell_type": "code",
   "execution_count": null,
   "id": "b8e2e81b",
   "metadata": {},
   "outputs": [],
   "source": [
    "use std::rc;"
   ]
  },
  {
   "cell_type": "code",
   "execution_count": null,
   "id": "9a06072d",
   "metadata": {},
   "outputs": [],
   "source": [
    "std::rc::Rc::new()"
   ]
  },
  {
   "cell_type": "code",
   "execution_count": null,
   "id": "ad372e31",
   "metadata": {},
   "outputs": [],
   "source": []
  }
 ],
 "metadata": {
  "kernelspec": {
   "display_name": "Rust",
   "language": "rust",
   "name": "rust"
  },
  "language_info": {
   "codemirror_mode": "rust",
   "file_extension": ".rs",
   "mimetype": "text/rust",
   "name": "Rust",
   "pygment_lexer": "rust",
   "version": ""
  }
 },
 "nbformat": 4,
 "nbformat_minor": 5
}
