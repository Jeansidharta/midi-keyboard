{
 "cells": [
  {
   "cell_type": "code",
   "execution_count": 5,
   "id": "b5ef5f79",
   "metadata": {},
   "outputs": [
    {
     "data": {
      "text/plain": [
       "Ok(\"[package]\\nname = \\\"midi\\\"\\nversion = \\\"0.1.0\\\"\\nedition = \\\"2021\\\"\\n\\n# See more keys and their definitions at https://doc.rust-lang.org/cargo/reference/manifest.html\\n\\n[dependencies]\\nfutures-util = \\\"0.3.25\\\"\\nhyper = { version = \\\"0.14.23\\\", features = [\\\"full\\\"] }\\nmidir = \\\"0.8.0\\\"\\nmidly = \\\"0.5.2\\\"\\npalette = \\\"0.6.1\\\"\\ntokio = { version = \\\"1.21.2\\\", features = [\\\"full\\\"] }\\ntokio-tungstenite = { version = \\\"0.17.2\\\", features = [\\\"native-tls\\\"] }\\ntungstenite = \\\"0.17.3\\\"\\n\")"
      ]
     },
     "execution_count": 5,
     "metadata": {},
     "output_type": "execute_result"
    }
   ],
   "source": [
    " std::fs::read_to_string(\"Cargo.toml\".to_string())"
   ]
  },
  {
   "cell_type": "code",
   "execution_count": null,
   "id": "48cbed28",
   "metadata": {},
   "outputs": [],
   "source": []
  }
 ],
 "metadata": {
  "kernelspec": {
   "display_name": "Rust",
   "language": "rust",
   "name": "rust"
  },
  "language_info": {
   "codemirror_mode": "rust",
   "file_extension": ".rs",
   "mimetype": "text/rust",
   "name": "Rust",
   "pygment_lexer": "rust",
   "version": ""
  }
 },
 "nbformat": 4,
 "nbformat_minor": 5
}
